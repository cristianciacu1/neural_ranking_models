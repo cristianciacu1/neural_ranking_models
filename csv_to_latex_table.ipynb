{
 "cells": [
  {
   "cell_type": "code",
   "execution_count": 4,
   "metadata": {},
   "outputs": [],
   "source": [
    "import csv\n",
    "import pandas as pd"
   ]
  },
  {
   "cell_type": "code",
   "execution_count": 7,
   "metadata": {},
   "outputs": [],
   "source": [
    "def csv_to_latex(datasets, models, selected_columns=['R@1000', 'RR@10', 'AP@1000'], ff=True):\n",
    "    path = f'latex_tables/{\"_\".join(models)}_{\"_\".join(selected_columns)}.txt'\n",
    "    with open(path, 'w') as file:\n",
    "        for dataset_name in datasets:\n",
    "            lower_dataset_name = dataset_name.lower()\n",
    "            if ff:\n",
    "                df = pd.read_csv(f'performance/{lower_dataset_name}.csv')\n",
    "            else:\n",
    "                df = pd.read_csv(f'performance_first_stage/{lower_dataset_name}.csv')\n",
    "            if lower_dataset_name not in ['dbpedia', 'quora', 'msmarco-passage', 'fever'] and ff:\n",
    "                df = df.drop(df.columns[0], axis=1)\n",
    "            df['name'] = df['name'].apply(lambda x: x.split(\", \")[0])\n",
    "            values = []\n",
    "            for model in models:\n",
    "                row = df[df['name'] == model]\n",
    "                values.extend([\"{:.3f}\".format(row[column].item()) for column in selected_columns])\n",
    "            values = ' & '.join(values)\n",
    "            to_write = ' & '.join([dataset_name, values]) + \" \\\\\\\\\" + '\\n'\n",
    "            file.write(to_write)"
   ]
  },
  {
   "cell_type": "code",
   "execution_count": 4,
   "metadata": {},
   "outputs": [],
   "source": [
    "csv_to_latex(['FiQA', 'NFCorpus', 'SciFact'], ['BM25', 'TF-IDF'])"
   ]
  },
  {
   "cell_type": "code",
   "execution_count": 5,
   "metadata": {},
   "outputs": [],
   "source": [
    "csv_to_latex(['FiQA', 'NFCorpus', 'SciFact'], ['DeepCT', 'deepimpact'])"
   ]
  },
  {
   "cell_type": "code",
   "execution_count": 22,
   "metadata": {},
   "outputs": [],
   "source": [
    "csv_to_latex(['FiQA', 'NFCorpus', 'HotpotQA', 'DBPedia'], ['BM25', 'TF-IDF', 'DeepCT', 'deepimpact', 'unicoil', 'Splade'], selected_columns=['AP@1000', 'nDCG@10'])"
   ]
  },
  {
   "cell_type": "code",
   "execution_count": 23,
   "metadata": {},
   "outputs": [],
   "source": [
    "csv_to_latex(['SciFact', 'Quora'], ['BM25', 'TF-IDF', 'DeepCT', 'deepimpact', 'unicoil', 'Splade'], selected_columns=['RR@10', 'nDCG@10'])"
   ]
  },
  {
   "cell_type": "code",
   "execution_count": 12,
   "metadata": {},
   "outputs": [],
   "source": [
    "# For first stage retrieval\n",
    "csv_to_latex(ff=False, datasets=['FiQA', 'NFCorpus', 'Scifact', 'Quora', 'HotpotQA', 'DBPedia', 'msmarco-passage'], models=['BM25', 'TF-IDF', 'DeepCT', 'deepimpact', 'unicoil', 'Splade'], selected_columns=['R@1000', 'nDCG@10'])"
   ]
  },
  {
   "cell_type": "code",
   "execution_count": 7,
   "metadata": {},
   "outputs": [],
   "source": [
    "csv_to_latex(datasets=['msmarco-passage'], models=['BM25', 'TF-IDF', 'DeepCT', 'deepimpact', 'unicoil', 'Splade'], selected_columns=['AP(rel=2)@1000', 'nDCG@10'])"
   ]
  },
  {
   "cell_type": "code",
   "execution_count": 9,
   "metadata": {},
   "outputs": [],
   "source": [
    "csv_to_latex(datasets=['fever'], models=['BM25', 'TF-IDF', 'DeepCT', 'deepimpact', 'unicoil', 'Splade'], selected_columns=['RR@10', 'nDCG@10'])"
   ]
  },
  {
   "cell_type": "code",
   "execution_count": null,
   "metadata": {},
   "outputs": [],
   "source": []
  }
 ],
 "metadata": {
  "kernelspec": {
   "display_name": "splade_final",
   "language": "python",
   "name": "python3"
  },
  "language_info": {
   "codemirror_mode": {
    "name": "ipython",
    "version": 3
   },
   "file_extension": ".py",
   "mimetype": "text/x-python",
   "name": "python",
   "nbconvert_exporter": "python",
   "pygments_lexer": "ipython3",
   "version": "3.9.19"
  }
 },
 "nbformat": 4,
 "nbformat_minor": 2
}
